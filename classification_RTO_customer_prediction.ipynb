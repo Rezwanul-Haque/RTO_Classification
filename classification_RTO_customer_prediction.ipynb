{
 "cells": [
  {
   "cell_type": "code",
   "execution_count": null,
   "metadata": {},
   "outputs": [],
   "source": [
    "\"\"\"\n",
    "@Authors:                   @Email:\n",
    "* Shaiful                     shaiful019@gmail.com\n",
    "* Rezwanul                    rezwanul.cse@gmail.com\n",
    "* Oli\n",
    "* Habibul\n",
    "* Tahmid\n",
    "\"\"\""
   ]
  },
  {
   "cell_type": "markdown",
   "metadata": {},
   "source": [
    "# Problem: Return to Origin (RTO) Customers Prediction\n",
    " Problem class: Supervised Classification\n",
    " \n",
    " Problem dataset link: Real dataset so no online link.\n",
    " \n",
    " Problem description: \n",
    " \n",
    "     RTO (Return to Origin) is a Classification Problem in eCommerce platforms where Many customers cancel their order when the   product is already on shipping. Then customer don't response and the product is return back to office.\n",
    " \n",
    " Problem Task:\n",
    "     Have to predict who will Cancel the product order after product is already on shipping."
   ]
  },
  {
   "cell_type": "markdown",
   "metadata": {},
   "source": [
    "# Importing libraries"
   ]
  },
  {
   "cell_type": "code",
   "execution_count": 2,
   "metadata": {},
   "outputs": [],
   "source": [
    "import warnings\n",
    "warnings.filterwarnings('ignore')\n",
    "\n",
    "import pandas as pd\n",
    "import numpy as np\n",
    "import matplotlib.pyplot as plt\n",
    "%matplotlib inline\n",
    "\n",
    "import seaborn as sns\n",
    "sns.set()"
   ]
  },
  {
   "cell_type": "markdown",
   "metadata": {},
   "source": [
    "# Feature or column description"
   ]
  },
  {
   "cell_type": "markdown",
   "metadata": {},
   "source": [
    "COLUMN DESCRIPTIONS:\n",
    "* Order Id\n",
    "* User Id\n",
    "* Order Value (In BDT, amount of the order)\n",
    "* Payment Type (How, customers paid for it. MPD/MPC = Manual, means Cash on delivery. MPS = Bkash, Rocket type mobile payments. * OPS = online credit card, debit card. ADC = AD Cash (can be earned, can be recharged), EMI = Monthly EMI Purchase )\n",
    "* District (Where customers are getting delivered)\n",
    "* OrderSource (Android, Mobile Site or Desktop Site)\n",
    "* Order Type for Delivery ( Express = Quick delivery and paid more for it, Normal = average delivery)\n",
    "* Delivery Charge ( for the delivery)\n",
    "* Order Placing Date (When customer placed the order)\n",
    "* Order Confirmation date (Office make calls to confirm the order. It call is made late, they might not want the product later)\n",
    "* IsCartOrder (is it a cart order or single product order)\n",
    "* OrderFromPromotionalEvent (Is product purchased in discount from a promotional event or not)\n",
    "* courierService (Courier service used by the customer)\n",
    "* isRTO ( Order canceled after product is already on shipping )"
   ]
  },
  {
   "cell_type": "code",
   "execution_count": null,
   "metadata": {},
   "outputs": [],
   "source": []
  },
  {
   "cell_type": "code",
   "execution_count": null,
   "metadata": {},
   "outputs": [],
   "source": []
  },
  {
   "cell_type": "markdown",
   "metadata": {},
   "source": [
    "# Load Dataset"
   ]
  },
  {
   "cell_type": "code",
   "execution_count": 5,
   "metadata": {},
   "outputs": [
    {
     "data": {
      "text/html": [
       "<div>\n",
       "<style scoped>\n",
       "    .dataframe tbody tr th:only-of-type {\n",
       "        vertical-align: middle;\n",
       "    }\n",
       "\n",
       "    .dataframe tbody tr th {\n",
       "        vertical-align: top;\n",
       "    }\n",
       "\n",
       "    .dataframe thead th {\n",
       "        text-align: right;\n",
       "    }\n",
       "</style>\n",
       "<table border=\"1\" class=\"dataframe\">\n",
       "  <thead>\n",
       "    <tr style=\"text-align: right;\">\n",
       "      <th></th>\n",
       "      <th>OrderId</th>\n",
       "      <th>UserId</th>\n",
       "      <th>OrderValue</th>\n",
       "      <th>PaymentType</th>\n",
       "      <th>District</th>\n",
       "      <th>OrderSource</th>\n",
       "      <th>OrderType</th>\n",
       "      <th>DeliveryCharge</th>\n",
       "      <th>OrderPlacedDay</th>\n",
       "      <th>OrderConfirmDayOverPhone</th>\n",
       "      <th>IsCartOrder</th>\n",
       "      <th>OrderFromPromotionalEvent</th>\n",
       "      <th>courierService</th>\n",
       "      <th>isRTO</th>\n",
       "    </tr>\n",
       "  </thead>\n",
       "  <tbody>\n",
       "    <tr>\n",
       "      <th>0</th>\n",
       "      <td>2562691</td>\n",
       "      <td>663791</td>\n",
       "      <td>168</td>\n",
       "      <td>MPD</td>\n",
       "      <td>Dhaka</td>\n",
       "      <td>android</td>\n",
       "      <td>normal</td>\n",
       "      <td>25.0</td>\n",
       "      <td>6/26/2019 9:20</td>\n",
       "      <td>6/26/2019 3:30</td>\n",
       "      <td>No</td>\n",
       "      <td>Yes</td>\n",
       "      <td>NaN</td>\n",
       "      <td>No</td>\n",
       "    </tr>\n",
       "    <tr>\n",
       "      <th>1</th>\n",
       "      <td>2561859</td>\n",
       "      <td>961083</td>\n",
       "      <td>240</td>\n",
       "      <td>MPD</td>\n",
       "      <td>Dhaka</td>\n",
       "      <td>mobile-site</td>\n",
       "      <td>normal</td>\n",
       "      <td>35.0</td>\n",
       "      <td>6/25/2019 19:05</td>\n",
       "      <td>6/25/2019 13:40</td>\n",
       "      <td>No</td>\n",
       "      <td>Yes</td>\n",
       "      <td>NaN</td>\n",
       "      <td>No</td>\n",
       "    </tr>\n",
       "    <tr>\n",
       "      <th>2</th>\n",
       "      <td>2561434</td>\n",
       "      <td>848517</td>\n",
       "      <td>120</td>\n",
       "      <td>MPD</td>\n",
       "      <td>Dhaka</td>\n",
       "      <td>desktop</td>\n",
       "      <td>normal</td>\n",
       "      <td>35.0</td>\n",
       "      <td>6/25/2019 15:28</td>\n",
       "      <td>6/25/2019 9:27</td>\n",
       "      <td>No</td>\n",
       "      <td>Yes</td>\n",
       "      <td>NaN</td>\n",
       "      <td>Yes</td>\n",
       "    </tr>\n",
       "    <tr>\n",
       "      <th>3</th>\n",
       "      <td>2561202</td>\n",
       "      <td>276304</td>\n",
       "      <td>185</td>\n",
       "      <td>MPD</td>\n",
       "      <td>Dhaka</td>\n",
       "      <td>android</td>\n",
       "      <td>normal</td>\n",
       "      <td>25.0</td>\n",
       "      <td>6/25/2019 13:27</td>\n",
       "      <td>6/25/2019 7:27</td>\n",
       "      <td>Yes</td>\n",
       "      <td>No</td>\n",
       "      <td>NaN</td>\n",
       "      <td>No</td>\n",
       "    </tr>\n",
       "    <tr>\n",
       "      <th>4</th>\n",
       "      <td>2561033</td>\n",
       "      <td>955384</td>\n",
       "      <td>201</td>\n",
       "      <td>MPD</td>\n",
       "      <td>Dhaka</td>\n",
       "      <td>android</td>\n",
       "      <td>normal</td>\n",
       "      <td>25.0</td>\n",
       "      <td>6/25/2019 12:13</td>\n",
       "      <td>6/25/2019 6:56</td>\n",
       "      <td>No</td>\n",
       "      <td>Yes</td>\n",
       "      <td>NaN</td>\n",
       "      <td>No</td>\n",
       "    </tr>\n",
       "  </tbody>\n",
       "</table>\n",
       "</div>"
      ],
      "text/plain": [
       "   OrderId  UserId  OrderValue           PaymentType District  OrderSource  \\\n",
       "0  2562691  663791         168  MPD                     Dhaka      android   \n",
       "1  2561859  961083         240  MPD                     Dhaka  mobile-site   \n",
       "2  2561434  848517         120  MPD                     Dhaka      desktop   \n",
       "3  2561202  276304         185  MPD                     Dhaka      android   \n",
       "4  2561033  955384         201  MPD                     Dhaka      android   \n",
       "\n",
       "  OrderType  DeliveryCharge   OrderPlacedDay OrderConfirmDayOverPhone  \\\n",
       "0    normal            25.0   6/26/2019 9:20           6/26/2019 3:30   \n",
       "1    normal            35.0  6/25/2019 19:05          6/25/2019 13:40   \n",
       "2    normal            35.0  6/25/2019 15:28           6/25/2019 9:27   \n",
       "3    normal            25.0  6/25/2019 13:27           6/25/2019 7:27   \n",
       "4    normal            25.0  6/25/2019 12:13           6/25/2019 6:56   \n",
       "\n",
       "  IsCartOrder OrderFromPromotionalEvent   courierService  isRTO  \n",
       "0          No                       Yes               NaN    No  \n",
       "1          No                       Yes               NaN    No  \n",
       "2          No                       Yes               NaN   Yes  \n",
       "3         Yes                        No               NaN    No  \n",
       "4          No                       Yes               NaN    No  "
      ]
     },
     "execution_count": 5,
     "metadata": {},
     "output_type": "execute_result"
    }
   ],
   "source": [
    "df = pd.read_csv(\"dataset/RTOdata.csv\")\n",
    "df.head()"
   ]
  },
  {
   "cell_type": "code",
   "execution_count": null,
   "metadata": {},
   "outputs": [],
   "source": []
  }
 ],
 "metadata": {
  "kernelspec": {
   "display_name": "Python 3",
   "language": "python",
   "name": "python3"
  },
  "language_info": {
   "codemirror_mode": {
    "name": "ipython",
    "version": 3
   },
   "file_extension": ".py",
   "mimetype": "text/x-python",
   "name": "python",
   "nbconvert_exporter": "python",
   "pygments_lexer": "ipython3",
   "version": "3.7.3"
  }
 },
 "nbformat": 4,
 "nbformat_minor": 2
}
