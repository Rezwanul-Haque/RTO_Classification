{
 "cells": [
  {
   "cell_type": "code",
   "execution_count": null,
   "metadata": {},
   "outputs": [],
   "source": [
    "\"\"\"\n",
    "@Authors:                     @Email:\n",
    "* Shaiful                     shaiful019@gmail.com\n",
    "* Rezwanul                    rezwanul.cse@gmail.com\n",
    "* Oli\n",
    "* Habibul                     shovon2111@gmail.com\n",
    "* Tahmid\n",
    "\"\"\""
   ]
  },
  {
   "cell_type": "markdown",
   "metadata": {},
   "source": [
    "# Problem: Return to Origin (RTO) Customers Prediction\n",
    " Problem class: Supervised Classification\n",
    " \n",
    " Problem dataset link: Real dataset so no online link.\n",
    " \n",
    " Problem description: \n",
    " \n",
    "     RTO (Return to Origin) is a Classification Problem in eCommerce platforms where Many customers cancel their order when the   product is already on shipping. Then customer don't response and the product is return back to office.\n",
    " \n",
    " Problem Task:\n",
    "     Have to predict who will Cancel the product order after product is already on shipping."
   ]
  },
  {
   "cell_type": "markdown",
   "metadata": {},
   "source": [
    "# Importing libraries"
   ]
  },
  {
   "cell_type": "code",
   "execution_count": 155,
   "metadata": {},
   "outputs": [],
   "source": [
    "import warnings\n",
    "warnings.filterwarnings('ignore')\n",
    "\n",
    "import pandas as pd\n",
    "import numpy as np\n",
    "import matplotlib.pyplot as plt\n",
    "%matplotlib inline\n",
    "\n",
    "import seaborn as sns\n",
    "sns.set()\n",
    "\n",
    "import scipy.stats as ss\n",
    "\n",
    "import random\n",
    "import calendar\n",
    "import time"
   ]
  },
  {
   "cell_type": "markdown",
   "metadata": {},
   "source": [
    "# Feature or column description"
   ]
  },
  {
   "cell_type": "markdown",
   "metadata": {},
   "source": [
    "COLUMN DESCRIPTIONS:\n",
    "* Order Id\n",
    "* User Id\n",
    "* Order Value (In BDT, amount of the order)\n",
    "* Payment Type (How, customers paid for it. MPD/MPC = Manual, means Cash on delivery. MPS = Bkash, Rocket type mobile payments. * OPS = online credit card, debit card. ADC = AD Cash (can be earned, can be recharged), EMI = Monthly EMI Purchase )\n",
    "* District (Where customers are getting delivered)\n",
    "* OrderSource (Android, Mobile Site or Desktop Site)\n",
    "* Order Type for Delivery ( Express = Quick delivery and paid more for it, Normal = average delivery)\n",
    "* Delivery Charge ( for the delivery)\n",
    "* Order Placing Date (When customer placed the order)\n",
    "* Order Confirmation date (Office make calls to confirm the order. It call is made late, they might not want the product later)\n",
    "* IsCartOrder (is it a cart order or single product order)\n",
    "* OrderFromPromotionalEvent (Is product purchased in discount from a promotional event or not)\n",
    "* courierService (Courier service used by the customer)\n",
    "* isRTO ( Order canceled after product is already on shipping )"
   ]
  },
  {
   "cell_type": "markdown",
   "metadata": {},
   "source": [
    "# Load Dataset & Merging the datasets"
   ]
  },
  {
   "cell_type": "code",
   "execution_count": 156,
   "metadata": {},
   "outputs": [
    {
     "data": {
      "text/plain": [
       "(20000, 14)"
      ]
     },
     "execution_count": 156,
     "metadata": {},
     "output_type": "execute_result"
    }
   ],
   "source": [
    "df_1 = pd.read_csv(\"data/RTOdata.csv\", parse_dates=['OrderPlacedDay', 'OrderConfirmDayOverPhone'])\n",
    "df_2 = pd.read_csv(\"data/RTO_data_new.csv\", parse_dates=['OrderPlacedDay', 'OrderConfirmDayOverPhone'])\n",
    "\n",
    "# Merging\n",
    "df = pd.concat([df_1, df_2], ignore_index=True)\n",
    "# type(df_1)\n",
    "# type(df_2)\n",
    "df.shape"
   ]
  },
  {
   "cell_type": "code",
   "execution_count": 157,
   "metadata": {},
   "outputs": [
    {
     "data": {
      "text/html": [
       "<div>\n",
       "<style scoped>\n",
       "    .dataframe tbody tr th:only-of-type {\n",
       "        vertical-align: middle;\n",
       "    }\n",
       "\n",
       "    .dataframe tbody tr th {\n",
       "        vertical-align: top;\n",
       "    }\n",
       "\n",
       "    .dataframe thead th {\n",
       "        text-align: right;\n",
       "    }\n",
       "</style>\n",
       "<table border=\"1\" class=\"dataframe\">\n",
       "  <thead>\n",
       "    <tr style=\"text-align: right;\">\n",
       "      <th></th>\n",
       "      <th>OrderId</th>\n",
       "      <th>UserId</th>\n",
       "      <th>OrderValue</th>\n",
       "      <th>PaymentType</th>\n",
       "      <th>District</th>\n",
       "      <th>OrderSource</th>\n",
       "      <th>OrderType</th>\n",
       "      <th>DeliveryCharge</th>\n",
       "      <th>OrderPlacedDay</th>\n",
       "      <th>OrderConfirmDayOverPhone</th>\n",
       "      <th>IsCartOrder</th>\n",
       "      <th>OrderFromPromotionalEvent</th>\n",
       "      <th>courierService</th>\n",
       "      <th>isRTO</th>\n",
       "    </tr>\n",
       "  </thead>\n",
       "  <tbody>\n",
       "    <tr>\n",
       "      <th>19995</th>\n",
       "      <td>2610588</td>\n",
       "      <td>901210</td>\n",
       "      <td>187</td>\n",
       "      <td>MPD</td>\n",
       "      <td>Nilphamari</td>\n",
       "      <td>android</td>\n",
       "      <td>normal</td>\n",
       "      <td>60.0</td>\n",
       "      <td>2019-07-17 19:29:00</td>\n",
       "      <td>2019-07-17 13:33:00</td>\n",
       "      <td>No</td>\n",
       "      <td>Yes</td>\n",
       "      <td>Bangladesh Postal Service                     ...</td>\n",
       "      <td>Yes</td>\n",
       "    </tr>\n",
       "    <tr>\n",
       "      <th>19996</th>\n",
       "      <td>2610586</td>\n",
       "      <td>528636</td>\n",
       "      <td>235</td>\n",
       "      <td>MPS</td>\n",
       "      <td>Sylhet City</td>\n",
       "      <td>android</td>\n",
       "      <td>normal</td>\n",
       "      <td>0.0</td>\n",
       "      <td>2019-07-17 19:29:00</td>\n",
       "      <td>2019-07-18 05:55:00</td>\n",
       "      <td>No</td>\n",
       "      <td>Yes</td>\n",
       "      <td>E-Desh                                        ...</td>\n",
       "      <td>No</td>\n",
       "    </tr>\n",
       "    <tr>\n",
       "      <th>19997</th>\n",
       "      <td>2610583</td>\n",
       "      <td>649604</td>\n",
       "      <td>170</td>\n",
       "      <td>MPS</td>\n",
       "      <td>Bagerhat</td>\n",
       "      <td>android</td>\n",
       "      <td>normal</td>\n",
       "      <td>25.0</td>\n",
       "      <td>2019-07-17 19:27:00</td>\n",
       "      <td>2019-07-17 15:42:00</td>\n",
       "      <td>No</td>\n",
       "      <td>Yes</td>\n",
       "      <td>Paperfly                                      ...</td>\n",
       "      <td>No</td>\n",
       "    </tr>\n",
       "    <tr>\n",
       "      <th>19998</th>\n",
       "      <td>2610576</td>\n",
       "      <td>967577</td>\n",
       "      <td>409</td>\n",
       "      <td>MPD</td>\n",
       "      <td>Dhaka</td>\n",
       "      <td>android</td>\n",
       "      <td>normal</td>\n",
       "      <td>25.0</td>\n",
       "      <td>2019-07-17 19:20:00</td>\n",
       "      <td>2019-07-17 13:28:00</td>\n",
       "      <td>No</td>\n",
       "      <td>No</td>\n",
       "      <td>E-Desh                                        ...</td>\n",
       "      <td>No</td>\n",
       "    </tr>\n",
       "    <tr>\n",
       "      <th>19999</th>\n",
       "      <td>2610572</td>\n",
       "      <td>970326</td>\n",
       "      <td>402</td>\n",
       "      <td>MPD</td>\n",
       "      <td>Moulvibazar</td>\n",
       "      <td>android</td>\n",
       "      <td>normal</td>\n",
       "      <td>60.0</td>\n",
       "      <td>2019-07-17 19:18:00</td>\n",
       "      <td>2019-07-17 13:45:00</td>\n",
       "      <td>No</td>\n",
       "      <td>Yes</td>\n",
       "      <td>Paperfly                                      ...</td>\n",
       "      <td>Yes</td>\n",
       "    </tr>\n",
       "  </tbody>\n",
       "</table>\n",
       "</div>"
      ],
      "text/plain": [
       "       OrderId  UserId  OrderValue           PaymentType     District  \\\n",
       "19995  2610588  901210         187  MPD                    Nilphamari   \n",
       "19996  2610586  528636         235  MPS                   Sylhet City   \n",
       "19997  2610583  649604         170  MPS                      Bagerhat   \n",
       "19998  2610576  967577         409  MPD                         Dhaka   \n",
       "19999  2610572  970326         402  MPD                   Moulvibazar   \n",
       "\n",
       "      OrderSource OrderType  DeliveryCharge      OrderPlacedDay  \\\n",
       "19995     android    normal            60.0 2019-07-17 19:29:00   \n",
       "19996     android    normal             0.0 2019-07-17 19:29:00   \n",
       "19997     android    normal            25.0 2019-07-17 19:27:00   \n",
       "19998     android    normal            25.0 2019-07-17 19:20:00   \n",
       "19999     android    normal            60.0 2019-07-17 19:18:00   \n",
       "\n",
       "      OrderConfirmDayOverPhone IsCartOrder OrderFromPromotionalEvent  \\\n",
       "19995      2019-07-17 13:33:00          No                       Yes   \n",
       "19996      2019-07-18 05:55:00          No                       Yes   \n",
       "19997      2019-07-17 15:42:00          No                       Yes   \n",
       "19998      2019-07-17 13:28:00          No                        No   \n",
       "19999      2019-07-17 13:45:00          No                       Yes   \n",
       "\n",
       "                                         courierService  isRTO  \n",
       "19995  Bangladesh Postal Service                     ...   Yes  \n",
       "19996  E-Desh                                        ...    No  \n",
       "19997  Paperfly                                      ...    No  \n",
       "19998  E-Desh                                        ...    No  \n",
       "19999  Paperfly                                      ...   Yes  "
      ]
     },
     "execution_count": 157,
     "metadata": {},
     "output_type": "execute_result"
    }
   ],
   "source": [
    "# df.head()\n",
    "df.tail()"
   ]
  },
  {
   "cell_type": "markdown",
   "metadata": {},
   "source": [
    "# Data Exploration"
   ]
  },
  {
   "cell_type": "markdown",
   "metadata": {},
   "source": [
    "## Variable Identification"
   ]
  },
  {
   "cell_type": "code",
   "execution_count": null,
   "metadata": {
    "scrolled": true
   },
   "outputs": [],
   "source": [
    "df.info()"
   ]
  },
  {
   "cell_type": "markdown",
   "metadata": {},
   "source": [
    "### Drop Unnecessary Columns"
   ]
  },
  {
   "cell_type": "code",
   "execution_count": 158,
   "metadata": {},
   "outputs": [
    {
     "data": {
      "text/html": [
       "<div>\n",
       "<style scoped>\n",
       "    .dataframe tbody tr th:only-of-type {\n",
       "        vertical-align: middle;\n",
       "    }\n",
       "\n",
       "    .dataframe tbody tr th {\n",
       "        vertical-align: top;\n",
       "    }\n",
       "\n",
       "    .dataframe thead th {\n",
       "        text-align: right;\n",
       "    }\n",
       "</style>\n",
       "<table border=\"1\" class=\"dataframe\">\n",
       "  <thead>\n",
       "    <tr style=\"text-align: right;\">\n",
       "      <th></th>\n",
       "      <th>UserId</th>\n",
       "      <th>OrderValue</th>\n",
       "      <th>PaymentType</th>\n",
       "      <th>District</th>\n",
       "      <th>OrderSource</th>\n",
       "      <th>OrderType</th>\n",
       "      <th>DeliveryCharge</th>\n",
       "      <th>OrderPlacedDay</th>\n",
       "      <th>OrderConfirmDayOverPhone</th>\n",
       "      <th>IsCartOrder</th>\n",
       "      <th>OrderFromPromotionalEvent</th>\n",
       "      <th>courierService</th>\n",
       "      <th>isRTO</th>\n",
       "    </tr>\n",
       "  </thead>\n",
       "  <tbody>\n",
       "    <tr>\n",
       "      <th>19995</th>\n",
       "      <td>901210</td>\n",
       "      <td>187</td>\n",
       "      <td>MPD</td>\n",
       "      <td>Nilphamari</td>\n",
       "      <td>android</td>\n",
       "      <td>normal</td>\n",
       "      <td>60.0</td>\n",
       "      <td>2019-07-17 19:29:00</td>\n",
       "      <td>2019-07-17 13:33:00</td>\n",
       "      <td>No</td>\n",
       "      <td>Yes</td>\n",
       "      <td>Bangladesh Postal Service                     ...</td>\n",
       "      <td>Yes</td>\n",
       "    </tr>\n",
       "    <tr>\n",
       "      <th>19996</th>\n",
       "      <td>528636</td>\n",
       "      <td>235</td>\n",
       "      <td>MPS</td>\n",
       "      <td>Sylhet City</td>\n",
       "      <td>android</td>\n",
       "      <td>normal</td>\n",
       "      <td>0.0</td>\n",
       "      <td>2019-07-17 19:29:00</td>\n",
       "      <td>2019-07-18 05:55:00</td>\n",
       "      <td>No</td>\n",
       "      <td>Yes</td>\n",
       "      <td>E-Desh                                        ...</td>\n",
       "      <td>No</td>\n",
       "    </tr>\n",
       "    <tr>\n",
       "      <th>19997</th>\n",
       "      <td>649604</td>\n",
       "      <td>170</td>\n",
       "      <td>MPS</td>\n",
       "      <td>Bagerhat</td>\n",
       "      <td>android</td>\n",
       "      <td>normal</td>\n",
       "      <td>25.0</td>\n",
       "      <td>2019-07-17 19:27:00</td>\n",
       "      <td>2019-07-17 15:42:00</td>\n",
       "      <td>No</td>\n",
       "      <td>Yes</td>\n",
       "      <td>Paperfly                                      ...</td>\n",
       "      <td>No</td>\n",
       "    </tr>\n",
       "    <tr>\n",
       "      <th>19998</th>\n",
       "      <td>967577</td>\n",
       "      <td>409</td>\n",
       "      <td>MPD</td>\n",
       "      <td>Dhaka</td>\n",
       "      <td>android</td>\n",
       "      <td>normal</td>\n",
       "      <td>25.0</td>\n",
       "      <td>2019-07-17 19:20:00</td>\n",
       "      <td>2019-07-17 13:28:00</td>\n",
       "      <td>No</td>\n",
       "      <td>No</td>\n",
       "      <td>E-Desh                                        ...</td>\n",
       "      <td>No</td>\n",
       "    </tr>\n",
       "    <tr>\n",
       "      <th>19999</th>\n",
       "      <td>970326</td>\n",
       "      <td>402</td>\n",
       "      <td>MPD</td>\n",
       "      <td>Moulvibazar</td>\n",
       "      <td>android</td>\n",
       "      <td>normal</td>\n",
       "      <td>60.0</td>\n",
       "      <td>2019-07-17 19:18:00</td>\n",
       "      <td>2019-07-17 13:45:00</td>\n",
       "      <td>No</td>\n",
       "      <td>Yes</td>\n",
       "      <td>Paperfly                                      ...</td>\n",
       "      <td>Yes</td>\n",
       "    </tr>\n",
       "  </tbody>\n",
       "</table>\n",
       "</div>"
      ],
      "text/plain": [
       "       UserId  OrderValue           PaymentType     District OrderSource  \\\n",
       "19995  901210         187  MPD                    Nilphamari     android   \n",
       "19996  528636         235  MPS                   Sylhet City     android   \n",
       "19997  649604         170  MPS                      Bagerhat     android   \n",
       "19998  967577         409  MPD                         Dhaka     android   \n",
       "19999  970326         402  MPD                   Moulvibazar     android   \n",
       "\n",
       "      OrderType  DeliveryCharge      OrderPlacedDay OrderConfirmDayOverPhone  \\\n",
       "19995    normal            60.0 2019-07-17 19:29:00      2019-07-17 13:33:00   \n",
       "19996    normal             0.0 2019-07-17 19:29:00      2019-07-18 05:55:00   \n",
       "19997    normal            25.0 2019-07-17 19:27:00      2019-07-17 15:42:00   \n",
       "19998    normal            25.0 2019-07-17 19:20:00      2019-07-17 13:28:00   \n",
       "19999    normal            60.0 2019-07-17 19:18:00      2019-07-17 13:45:00   \n",
       "\n",
       "      IsCartOrder OrderFromPromotionalEvent  \\\n",
       "19995          No                       Yes   \n",
       "19996          No                       Yes   \n",
       "19997          No                       Yes   \n",
       "19998          No                        No   \n",
       "19999          No                       Yes   \n",
       "\n",
       "                                         courierService  isRTO  \n",
       "19995  Bangladesh Postal Service                     ...   Yes  \n",
       "19996  E-Desh                                        ...    No  \n",
       "19997  Paperfly                                      ...    No  \n",
       "19998  E-Desh                                        ...    No  \n",
       "19999  Paperfly                                      ...   Yes  "
      ]
     },
     "execution_count": 158,
     "metadata": {},
     "output_type": "execute_result"
    }
   ],
   "source": [
    "df.drop(\"OrderId\", axis=1, inplace=True)\n",
    "df.tail()"
   ]
  },
  {
   "cell_type": "code",
   "execution_count": null,
   "metadata": {},
   "outputs": [],
   "source": [
    "df.info()"
   ]
  },
  {
   "cell_type": "code",
   "execution_count": null,
   "metadata": {},
   "outputs": [],
   "source": [
    "df.dtypes"
   ]
  },
  {
   "cell_type": "markdown",
   "metadata": {},
   "source": [
    "## Univariate Analysis"
   ]
  },
  {
   "cell_type": "code",
   "execution_count": null,
   "metadata": {},
   "outputs": [],
   "source": [
    "df.describe()"
   ]
  },
  {
   "cell_type": "code",
   "execution_count": 159,
   "metadata": {},
   "outputs": [
    {
     "data": {
      "text/plain": [
       "<matplotlib.axes._subplots.AxesSubplot at 0x1a96e5f8>"
      ]
     },
     "execution_count": 159,
     "metadata": {},
     "output_type": "execute_result"
    },
    {
     "data": {
      "image/png": "[encoded data removed]",
      "text/plain": [
       "<Figure size 576x576 with 1 Axes>"
      ]
     },
     "metadata": {},
     "output_type": "display_data"
    }
   ],
   "source": [
    "# Delivery charge vs Order Type\n",
    "df.boxplot('DeliveryCharge','OrderType',rot = 30,figsize=(8,8))\n",
    "\n",
    "# Insight: \n",
    "    ## Express user has average delivery charge of 70-90 where \n",
    "    ## Normal user's delivery charge 30 to 50 \n",
    "    \n",
    "    ## express user's delivery charge are not spiked like normal user's delivery charge."
   ]
  },
  {
   "cell_type": "markdown",
   "metadata": {},
   "source": [
    "# Missing value finding and handling"
   ]
  },
  {
   "cell_type": "code",
   "execution_count": null,
   "metadata": {},
   "outputs": [],
   "source": [
    "# total number of missing values\n",
    "print(df.isnull().values.sum())"
   ]
  },
  {
   "cell_type": "code",
   "execution_count": null,
   "metadata": {},
   "outputs": [],
   "source": [
    "# the column-wise distribution of null values\n",
    "print(df.isnull().sum())\n",
    "\n",
    "# Insight: \n",
    "    ## OrderType column has some blanks data \n",
    "    ## courierService has lots of data missing as our 1st dataset don't have any.\n",
    "    ## Also some hidden missing data like OrderSource has -1"
   ]
  },
  {
   "cell_type": "code",
   "execution_count": 160,
   "metadata": {},
   "outputs": [],
   "source": [
    "# Imputing OrderSource value \"-1\" with \"Others\".\n",
    "df[\"OrderSource\"] = df[\"OrderSource\"].replace(to_replace =\"-1\", value =\"Others\")"
   ]
  },
  {
   "cell_type": "code",
   "execution_count": null,
   "metadata": {},
   "outputs": [],
   "source": [
    "# OrderType is imbalanced as Normal user is 15 times more than express users\n",
    "df.OrderType.value_counts()\n",
    "# we will handle imbalanced problem later\n",
    "# imputing missing values "
   ]
  },
  {
   "cell_type": "code",
   "execution_count": 161,
   "metadata": {},
   "outputs": [],
   "source": [
    "def count_NaNs(df):\n",
    "    global valueCounts, nanCounts\n",
    "    nanCounts = df.isnull().sum()\n",
    "    for x in list(df):\n",
    "        valueCounts[x] = df[x].value_counts()\n",
    "\n",
    "def fill_NaNs_Categorical(col:pd.Series, df: pd.DataFrame):\n",
    "    \"\"\"Random but proportional replacement(RBPR) of categoricals.\"\"\"\n",
    "    proportion = np.array(valueCounts[col].values) / valueCounts[col].sum() * nanCounts[col]\n",
    "    proportion = np.around(proportion).astype('int')\n",
    "    \n",
    "    \"\"\"Adjusting proportion.\"\"\"\n",
    "    diff = int(nanCounts[col] - np.sum(proportion))\n",
    "    if diff > 0:\n",
    "        for x in range(diff):\n",
    "            idx = random.randint(0, len(proportion) - 1)\n",
    "            proportion[idx] =  proportion[idx] + 1\n",
    "    else:\n",
    "        diff = -diff\n",
    "        while(diff != 0):\n",
    "            idx = random.randint(0, len(proportion) - 1)\n",
    "            if proportion[idx] > 0:\n",
    "                proportion[idx] =  proportion[idx] - 1\n",
    "                diff = diff - 1\n",
    "    \n",
    "    \"\"\"Filling NaNs.\"\"\"\n",
    "    nan_indexes = df[df[col].isnull()].index.tolist()\n",
    "    for x in range(len(proportion)):\n",
    "        if proportion[x] > 0:\n",
    "            random_subset = random.sample(population = nan_indexes, k = proportion[x])\n",
    "            df.loc[random_subset, col] = df[col].value_counts().keys()[x]\n",
    "            nan_indexes = list(set(nan_indexes) - set(random_subset))"
   ]
  },
  {
   "cell_type": "code",
   "execution_count": 162,
   "metadata": {},
   "outputs": [],
   "source": [
    "# Imputing missing values by RBPR\n",
    "# Random but proportional replacement(RBPR) of categoricals.\n",
    "count_NaNs(df)\n",
    "fill_NaNs_Categorical('OrderType', df)\n",
    "fill_NaNs_Categorical(' courierService ', df) # dataset column header got tailing and leading space on courierService column"
   ]
  },
  {
   "cell_type": "code",
   "execution_count": 163,
   "metadata": {},
   "outputs": [],
   "source": [
    "df['DeliveryCharge'].fillna(np.mean, inplace=True)"
   ]
  },
  {
   "cell_type": "code",
   "execution_count": null,
   "metadata": {},
   "outputs": [],
   "source": [
    "df.isnull().sum()"
   ]
  },
  {
   "cell_type": "code",
   "execution_count": null,
   "metadata": {},
   "outputs": [],
   "source": [
    "df.tail()"
   ]
  },
  {
   "cell_type": "markdown",
   "metadata": {},
   "source": [
    "# Preprosscessing"
   ]
  },
  {
   "cell_type": "code",
   "execution_count": null,
   "metadata": {},
   "outputs": [],
   "source": [
    "df[\"OrderPlacedDayName\"] = df.OrderPlacedDay.dt.dayofweek\n",
    "df[\"OrderConfirmDayNameOverPhone\"] = df.OrderConfirmDayOverPhone.dt.dayofweek"
   ]
  },
  {
   "cell_type": "code",
   "execution_count": null,
   "metadata": {},
   "outputs": [],
   "source": [
    "df.head()"
   ]
  },
  {
   "cell_type": "markdown",
   "metadata": {},
   "source": [
    "### Encode Categorical column to Numeric"
   ]
  },
  {
   "cell_type": "code",
   "execution_count": 171,
   "metadata": {},
   "outputs": [
    {
     "data": {
      "text/plain": [
       "69"
      ]
     },
     "execution_count": 171,
     "metadata": {},
     "output_type": "execute_result"
    }
   ],
   "source": [
    "df['District'].value_counts().count()"
   ]
  },
  {
   "cell_type": "code",
   "execution_count": 172,
   "metadata": {},
   "outputs": [
    {
     "name": "stdout",
     "output_type": "stream",
     "text": [
      "{'District': {'Bagerhat': 1, 'Bandarban': 2, 'Barguna': 3, 'Barisal': 4, 'Bhola': 5, 'Bogra': 6, 'Brahmanbaria': 7, 'Chandpur': 8, 'Chapai-Nawabganj': 9, 'Chittagong (Outside City)': 10, 'Chittagong City': 11, 'Chuadanga': 12, 'Comilla': 13, \"Cox's-Bazar\": 14, 'Dhaka': 15, 'Dhaka (Outside City)': 16, 'Dinajpur': 17, 'Faridpur': 18, 'Feni': 19, 'Gaibandha': 20, 'Gazipur': 21, 'Gopalganj': 22, 'Habiganj': 23, 'Jamalpur': 24, 'Jessore': 25, 'Jhalokati': 26, 'Jhenaidah': 27, 'Joypurhat': 28, 'Khagrachhari': 29, 'Kishoreganj': 30, 'Kurigram': 31, 'Kushtia': 32, 'Lakshmipur': 33, 'Lalmonirhat': 34, 'Madaripur': 35, 'Magura': 36, 'Manikganj': 37, 'Meherpur': 38, 'Moulvibazar': 39, 'Munshiganj': 40, 'Mymensingh': 41, 'Naogaon': 42, 'Narail': 43, 'Narayanganj': 44, 'Narsingdi': 45, 'Natore': 46, 'Netrokona': 47, 'Nilphamari': 48, 'Noakhali': 49, 'Pabna': 50, 'Panchagarh': 51, 'Patuakhali': 52, 'Pirojpur': 53, 'Rajbari': 54, 'Rajshahi (Outside City)': 55, 'Rajshahi City': 56, 'Rangamati': 57, 'Rangpur': 58, 'Satkhira': 59, 'Shariatpur': 60, 'Sherpur': 61, 'Sirajganj': 62, 'Sunamganj': 63, 'Sylhet (Outside City)': 64, 'Sylhet City': 65, 'Tangail': 66, 'Thakurgaon': 67, 'khulna (Outside City)': 68, 'khulna City': 69}}\n"
     ]
    }
   ],
   "source": [
    "# Replace Values with map values\n",
    "labels = df['District'].astype('category').cat.categories.tolist()\n",
    "replace_map_district = {'District' : {k: v for k,v in zip(labels,list(range(1,len(labels)+1)))}}\n",
    "\n",
    "print(replace_map_district)"
   ]
  },
  {
   "cell_type": "code",
   "execution_count": null,
   "metadata": {},
   "outputs": [],
   "source": [
    "df.replace(replace_map_district, inplace=True)"
   ]
  },
  {
   "cell_type": "code",
   "execution_count": null,
   "metadata": {},
   "outputs": [],
   "source": [
    "df.tail()"
   ]
  },
  {
   "cell_type": "code",
   "execution_count": null,
   "metadata": {},
   "outputs": [],
   "source": [
    "%%timeit\n",
    "pd.Series(np.searchsorted(['No', 'Yes'], df.IsCartOrder.values), df.index, inpl)\n",
    "pd.Series(np.searchsorted(['No', 'Yes'], df.OrderFromPromotionalEvent.values), df.index)\n",
    "pd.Series(np.searchsorted(['No', 'Yes'], df.isRTO.values), df.index)\n",
    "# df.IsCartOrder.eq('yes')\n",
    "# df.OrderFromPromotionalEvent.map(dict(yes=1, no=0))\n",
    "# df.isRTO.map(dict(yes=1, no=0))"
   ]
  },
  {
   "cell_type": "code",
   "execution_count": null,
   "metadata": {},
   "outputs": [],
   "source": [
    "%%timeit\n",
    "df.IsCartOrder = df.IsCartOrder.astype('category').cat.codes\n",
    "df.OrderFromPromotionalEvent = df.OrderFromPromotionalEvent.astype('category').cat.codes\n",
    "df.isRTO = df.isRTO.astype('category').cat.codes"
   ]
  },
  {
   "cell_type": "code",
   "execution_count": null,
   "metadata": {},
   "outputs": [],
   "source": [
    "df.head()"
   ]
  },
  {
   "cell_type": "code",
   "execution_count": null,
   "metadata": {},
   "outputs": [],
   "source": [
    "df.OrderType = df.OrderType.astype('category').cat.codes"
   ]
  },
  {
   "cell_type": "code",
   "execution_count": null,
   "metadata": {},
   "outputs": [],
   "source": [
    "!pip install category_encoders"
   ]
  },
  {
   "cell_type": "code",
   "execution_count": null,
   "metadata": {},
   "outputs": [],
   "source": [
    "import category_encoders as ce\n",
    "\n",
    "encoder = ce.BinaryEncoder(cols=['PaymentType', 'OrderSource', ' courierService '])\n",
    "df_binary = encoder.fit_transform(df)\n",
    "\n",
    "df_binary.head()"
   ]
  },
  {
   "cell_type": "code",
   "execution_count": null,
   "metadata": {},
   "outputs": [],
   "source": [
    "df_binary.drop(['OrderPlacedDay', 'OrderConfirmDayOverPhone'], axis=1)"
   ]
  },
  {
   "cell_type": "code",
   "execution_count": 164,
   "metadata": {},
   "outputs": [],
   "source": [
    "def cramers_v(x, y):\n",
    "    \"\"\"\n",
    "    Cramér’s V. It is based on a nominal variation of Pearson’s Chi-Square Test, and comes built-in with some great benefits:\n",
    "    Similarly to correlation, the output is in the range of [0,1], where 0 means no association and 1 is full association. (Unlike correlation, there are no negative values, as there’s no such thing as a negative association. Either there is, or there isn’t)\n",
    "    Like correlation, Cramer’s V is symmetrical — it is insensitive to swapping x and y\n",
    "    \"\"\"\n",
    "    confusion_matrix = pd.crosstab(x,y)\n",
    "    chi2 = ss.chi2_contingency(confusion_matrix)[0]\n",
    "    n = confusion_matrix.sum().sum()\n",
    "    phi2 = chi2/n\n",
    "    r,k = confusion_matrix.shape\n",
    "    phi2corr = max(0, phi2-((k-1)*(r-1))/(n-1))\n",
    "    rcorr = r-((r-1)**2)/(n-1)\n",
    "    kcorr = k-((k-1)**2)/(n-1)\n",
    "    return np.sqrt(phi2corr/min((kcorr-1),(rcorr-1)))"
   ]
  },
  {
   "cell_type": "code",
   "execution_count": 170,
   "metadata": {},
   "outputs": [
    {
     "data": {
      "text/plain": [
       "0.010825084222638838"
      ]
     },
     "execution_count": 170,
     "metadata": {},
     "output_type": "execute_result"
    }
   ],
   "source": [
    "cramers_v(df['PaymentType'], df[' courierService '])"
   ]
  },
  {
   "cell_type": "code",
   "execution_count": null,
   "metadata": {},
   "outputs": [],
   "source": []
  },
  {
   "cell_type": "markdown",
   "metadata": {},
   "source": [
    "### Initial Insight"
   ]
  },
  {
   "cell_type": "markdown",
   "metadata": {},
   "source": [
    "A)    Delete- Order Id from data set\n",
    "\n",
    "B)    Normalized- Order Value (deviation mean to max is so high)\n",
    "\n",
    "C)    Payment Type- consider MPD and MPS only. It covers 96% of whole data set.\n",
    "\n",
    "D)    Order source- consider android only. It covers 88% of whole data set.\n",
    "\n",
    "E)    Order Type- normal mode takes more than 90% order\n",
    "\n",
    "F)    Is Cart Order-No, possible to high chance to cancel\n",
    "\n",
    "G)    Order from Promotional Event- does not major impact for RTO prediction\n",
    "\n",
    "H)    Courier Service- null followed by E-Desh is very high to cancel the order\n",
    "\n",
    "I)     Time interval for confirmation- We may add additional column by One hot/level encoding\n",
    "\n",
    "[Order Confirm Day Over Phone (-) Order Placed Day]\n",
    "\n",
    "J)     In terms of delivery charge and order value, below districts customer may chance to cancel the order. But Dhaka followed by Gazipur are the main contributor to accept order and cancel"
   ]
  },
  {
   "cell_type": "markdown",
   "metadata": {},
   "source": [
    "### Visualization For better understanding"
   ]
  }
 ],
 "metadata": {
  "kernelspec": {
   "display_name": "Python 3",
   "language": "python",
   "name": "python3"
  },
  "language_info": {
   "codemirror_mode": {
    "name": "ipython",
    "version": 3
   },
   "file_extension": ".py",
   "mimetype": "text/x-python",
   "name": "python",
   "nbconvert_exporter": "python",
   "pygments_lexer": "ipython3",
   "version": "3.7.3"
  }
 },
 "nbformat": 4,
 "nbformat_minor": 2
}
