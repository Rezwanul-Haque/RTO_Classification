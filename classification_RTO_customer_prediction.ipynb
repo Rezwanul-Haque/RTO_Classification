{
 "cells": [
  {
   "cell_type": "code",
   "execution_count": null,
   "metadata": {},
   "outputs": [],
   "source": [
    "\"\"\"\n",
    "@Authors:                   @Email:\n",
    "* Shaiful                     shaiful019@gmail.com\n",
    "* Rezwanul                    rezwanul.cse@gmail.com\n",
    "* Oli\n",
    "* Habibul\n",
    "* Tahmid\n",
    "\"\"\""
   ]
  },
  {
   "cell_type": "markdown",
   "metadata": {},
   "source": [
    "# Problem: Return to Origin (RTO) Customers Prediction\n",
    " Problem class: Supervised Classification\n",
    " \n",
    " Problem dataset link: Real dataset so no online link.\n",
    " \n",
    " Problem description: \n",
    " \n",
    "     RTO (Return to Origin) is a Classification Problem in eCommerce platforms where Many customers cancel their order when the   product is already on shipping. Then customer don't response and the product is return back to office.\n",
    " \n",
    " Problem Task:\n",
    "     Have to predict who will Cancel the product order after product is already on shipping."
   ]
  },
  {
   "cell_type": "markdown",
   "metadata": {},
   "source": [
    "# Importing libraries"
   ]
  },
  {
   "cell_type": "code",
   "execution_count": 3,
   "metadata": {},
   "outputs": [],
   "source": [
    "import warnings\n",
    "warnings.filterwarnings('ignore')\n",
    "\n",
    "import pandas as pd\n",
    "import numpy as np\n",
    "import matplotlib.pyplot as plt\n",
    "%matplotlib inline\n",
    "\n",
    "import seaborn as sns\n",
    "sns.set()"
   ]
  },
  {
   "cell_type": "markdown",
   "metadata": {},
   "source": [
    "# Feature or column description"
   ]
  },
  {
   "attachments": {},
   "cell_type": "markdown",
   "metadata": {},
   "source": [
    "COLUMN DESCRIPTIONS:\n",
    "* Order Id\n",
    "* User Id\n",
    "* Order Value (In BDT, amount of the order)\n",
    "* Payment Type (How, customers paid for it. MPD/MPC = Manual, means Cash on delivery. MPS = Bkash, Rocket type mobile payments. * OPS = online credit card, debit card. ADC = AD Cash (can be earned, can be recharged), EMI = Monthly EMI Purchase )\n",
    "* District (Where customers are getting delivered)\n",
    "* OrderSource (Android, Mobile Site or Desktop Site)\n",
    "* Order Type for Delivery ( Express = Quick delivery and paid more for it, Normal = average delivery)\n",
    "* Delivery Charge ( for the delivery)\n",
    "* Order Placing Date (When customer placed the order)\n",
    "* Order Confirmation date (Office make calls to confirm the order. It call is made late, they might not want the product later)\n",
    "* IsCartOrder (is it a cart order or single product order)\n",
    "* OrderFromPromotionalEvent (Is product purchased in discount from a promotional event or not)\n",
    "* courierService (Courier service used by the customer)\n",
    "* isRTO ( Order canceled after product is already on shipping )"
   ]
  },
  {
   "cell_type": "code",
   "execution_count": null,
   "metadata": {},
   "outputs": [],
   "source": []
  }
 ],
 "metadata": {
  "kernelspec": {
   "display_name": "Python 3",
   "language": "python",
   "name": "python3"
  },
  "language_info": {
   "codemirror_mode": {
    "name": "ipython",
    "version": 3
   },
   "file_extension": ".py",
   "mimetype": "text/x-python",
   "name": "python",
   "nbconvert_exporter": "python",
   "pygments_lexer": "ipython3",
   "version": "3.7.3"
  }
 },
 "nbformat": 4,
 "nbformat_minor": 2
}
